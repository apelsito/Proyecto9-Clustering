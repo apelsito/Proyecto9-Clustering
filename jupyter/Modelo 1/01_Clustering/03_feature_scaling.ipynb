{
 "cells": [
  {
   "cell_type": "code",
   "execution_count": 28,
   "metadata": {},
   "outputs": [],
   "source": [
    "# Tratamiento de datos\n",
    "# -----------------------------------------------------------------------\n",
    "import numpy as np\n",
    "import pandas as pd\n",
    "pd.set_option('display.max_columns', None)\n",
    "\n",
    "import math\n",
    "\n",
    "# Visualizaciones\n",
    "# -----------------------------------------------------------------------\n",
    "import seaborn as sns\n",
    "import matplotlib.pyplot as plt\n",
    "import plotly_express as px\n",
    "\n",
    "\n",
    "# Para el modelado de los datos\n",
    "# -----------------------------------------------------------------------\n",
    "from sklearn.cluster import KMeans\n",
    "from sklearn.metrics import silhouette_score, davies_bouldin_score\n",
    "\n",
    "# Preprocesado y modelado\n",
    "# -----------------------------------------------------------------------\n",
    "\n",
    "\n",
    "# Para la codificación de las variables numéricas\n",
    "# -----------------------------------------------------------------------\n",
    "from sklearn.preprocessing import StandardScaler\n",
    "\n",
    "from sklearn.preprocessing import MinMaxScaler, OneHotEncoder, OrdinalEncoder, LabelEncoder, RobustScaler# para poder aplicar los métodos de OneHot, Ordinal,  Label y Target Encoder \n",
    "from category_encoders import TargetEncoder\n",
    "# Sacar número de clusters y métricas\n",
    "# -----------------------------------------------------------------------\n",
    "# pip install yellowbrick\n",
    "from yellowbrick.cluster import KElbowVisualizer\n",
    "from sklearn.metrics import silhouette_score\n",
    "\n",
    "# Modelos de clustering\n",
    "# -----------------------------------------------------------------------\n",
    "from sklearn.cluster import KMeans\n",
    "from sklearn.cluster import AgglomerativeClustering\n",
    "from sklearn.cluster import DBSCAN\n",
    "from sklearn.cluster import SpectralClustering\n",
    "\n",
    "# Para visualizar los dendrogramas\n",
    "# -----------------------------------------------------------------------\n",
    "import scipy.cluster.hierarchy as sch\n",
    "# Configuración warnings\n",
    "# -----------------------------------------------------------------------\n",
    "import warnings\n",
    "warnings.filterwarnings('ignore')\n",
    "\n",
    "import sys \n",
    "sys.path.append(\"../../../\")\n",
    "import src.soporte_clustering as sc\n"
   ]
  },
  {
   "cell_type": "code",
   "execution_count": 29,
   "metadata": {},
   "outputs": [],
   "source": [
    "df = pd.read_pickle(\"../../../datos/01_clustering/02_datos_encoded.pkl\")"
   ]
  },
  {
   "cell_type": "code",
   "execution_count": 30,
   "metadata": {},
   "outputs": [
    {
     "data": {
      "text/plain": [
       "Index(['Ship Mode', 'Segment', 'Market', 'Region', 'Product ID', 'Category',\n",
       "       'Sub-Category', 'Sales', 'Quantity', 'Discount', 'Profit',\n",
       "       'Shipping Cost', 'Order Priority'],\n",
       "      dtype='object')"
      ]
     },
     "execution_count": 30,
     "metadata": {},
     "output_type": "execute_result"
    }
   ],
   "source": [
    "df.columns"
   ]
  },
  {
   "cell_type": "markdown",
   "metadata": {},
   "source": [
    "# Aplicamos Robust Scaler\n",
    "- ['Ship Mode', 'Segment', 'Market', 'Region', 'Category','Sub-Category','Sales', 'Quantity', 'Discount', 'Profit', 'Shipping Cost','Order Priority']"
   ]
  },
  {
   "cell_type": "code",
   "execution_count": 31,
   "metadata": {},
   "outputs": [
    {
     "data": {
      "text/html": [
       "<div>\n",
       "<style scoped>\n",
       "    .dataframe tbody tr th:only-of-type {\n",
       "        vertical-align: middle;\n",
       "    }\n",
       "\n",
       "    .dataframe tbody tr th {\n",
       "        vertical-align: top;\n",
       "    }\n",
       "\n",
       "    .dataframe thead th {\n",
       "        text-align: right;\n",
       "    }\n",
       "</style>\n",
       "<table border=\"1\" class=\"dataframe\">\n",
       "  <thead>\n",
       "    <tr style=\"text-align: right;\">\n",
       "      <th></th>\n",
       "      <th>Ship Mode</th>\n",
       "      <th>Segment</th>\n",
       "      <th>Market</th>\n",
       "      <th>Region</th>\n",
       "      <th>Category</th>\n",
       "      <th>Sub-Category</th>\n",
       "      <th>Sales</th>\n",
       "      <th>Quantity</th>\n",
       "      <th>Discount</th>\n",
       "      <th>Profit</th>\n",
       "      <th>Shipping Cost</th>\n",
       "      <th>Order Priority</th>\n",
       "      <th>Product ID</th>\n",
       "    </tr>\n",
       "  </thead>\n",
       "  <tbody>\n",
       "    <tr>\n",
       "      <th>46829</th>\n",
       "      <td>0.0</td>\n",
       "      <td>0.0</td>\n",
       "      <td>-18.043333</td>\n",
       "      <td>-0.057525</td>\n",
       "      <td>0.0</td>\n",
       "      <td>1.137103</td>\n",
       "      <td>-0.306667</td>\n",
       "      <td>-0.333333</td>\n",
       "      <td>3.5</td>\n",
       "      <td>-0.902037</td>\n",
       "      <td>-0.314103</td>\n",
       "      <td>0.0</td>\n",
       "      <td>OFF-CAR-10002942</td>\n",
       "    </tr>\n",
       "  </tbody>\n",
       "</table>\n",
       "</div>"
      ],
      "text/plain": [
       "       Ship Mode  Segment     Market    Region  Category  Sub-Category  \\\n",
       "46829        0.0      0.0 -18.043333 -0.057525       0.0      1.137103   \n",
       "\n",
       "          Sales  Quantity  Discount    Profit  Shipping Cost  Order Priority  \\\n",
       "46829 -0.306667 -0.333333       3.5 -0.902037      -0.314103             0.0   \n",
       "\n",
       "             Product ID  \n",
       "46829  OFF-CAR-10002942  "
      ]
     },
     "execution_count": 31,
     "metadata": {},
     "output_type": "execute_result"
    }
   ],
   "source": [
    "cols_escalar = ['Ship Mode', 'Segment', 'Market', 'Region', 'Category','Sub-Category','Sales', 'Quantity', 'Discount', 'Profit', 'Shipping Cost','Order Priority']\n",
    "\n",
    "escalador_minmax = RobustScaler()\n",
    "datos_transf_minmax = escalador_minmax.fit_transform(df[cols_escalar])\n",
    "df_escalado = pd.DataFrame(datos_transf_minmax, columns=cols_escalar)\n",
    "df.drop(columns=cols_escalar, inplace=True)\n",
    "df = pd.concat([df_escalado, df.reset_index(drop=True)], axis=1)\n",
    "df.sample()\n"
   ]
  },
  {
   "cell_type": "markdown",
   "metadata": {},
   "source": [
    "# Set index\n",
    "- De esta forma no perderemos el orden de las columnas"
   ]
  },
  {
   "cell_type": "code",
   "execution_count": 32,
   "metadata": {},
   "outputs": [],
   "source": [
    "df.set_index('Product ID', inplace=True)"
   ]
  },
  {
   "cell_type": "code",
   "execution_count": 34,
   "metadata": {},
   "outputs": [
    {
     "data": {
      "text/html": [
       "<div>\n",
       "<style scoped>\n",
       "    .dataframe tbody tr th:only-of-type {\n",
       "        vertical-align: middle;\n",
       "    }\n",
       "\n",
       "    .dataframe tbody tr th {\n",
       "        vertical-align: top;\n",
       "    }\n",
       "\n",
       "    .dataframe thead th {\n",
       "        text-align: right;\n",
       "    }\n",
       "</style>\n",
       "<table border=\"1\" class=\"dataframe\">\n",
       "  <thead>\n",
       "    <tr style=\"text-align: right;\">\n",
       "      <th></th>\n",
       "      <th>Ship Mode</th>\n",
       "      <th>Segment</th>\n",
       "      <th>Market</th>\n",
       "      <th>Region</th>\n",
       "      <th>Category</th>\n",
       "      <th>Sub-Category</th>\n",
       "      <th>Sales</th>\n",
       "      <th>Quantity</th>\n",
       "      <th>Discount</th>\n",
       "      <th>Profit</th>\n",
       "      <th>Shipping Cost</th>\n",
       "      <th>Order Priority</th>\n",
       "    </tr>\n",
       "    <tr>\n",
       "      <th>Product ID</th>\n",
       "      <th></th>\n",
       "      <th></th>\n",
       "      <th></th>\n",
       "      <th></th>\n",
       "      <th></th>\n",
       "      <th></th>\n",
       "      <th></th>\n",
       "      <th></th>\n",
       "      <th></th>\n",
       "      <th></th>\n",
       "      <th></th>\n",
       "      <th></th>\n",
       "    </tr>\n",
       "  </thead>\n",
       "  <tbody>\n",
       "    <tr>\n",
       "      <th>TEC-SHA-10004151</th>\n",
       "      <td>0.0</td>\n",
       "      <td>0.0</td>\n",
       "      <td>-16.57</td>\n",
       "      <td>0.070889</td>\n",
       "      <td>-1.0</td>\n",
       "      <td>-0.461351</td>\n",
       "      <td>0.385788</td>\n",
       "      <td>-0.666667</td>\n",
       "      <td>0.0</td>\n",
       "      <td>2.012225</td>\n",
       "      <td>0.379121</td>\n",
       "      <td>0.0</td>\n",
       "    </tr>\n",
       "  </tbody>\n",
       "</table>\n",
       "</div>"
      ],
      "text/plain": [
       "                  Ship Mode  Segment  Market    Region  Category  \\\n",
       "Product ID                                                         \n",
       "TEC-SHA-10004151        0.0      0.0  -16.57  0.070889      -1.0   \n",
       "\n",
       "                  Sub-Category     Sales  Quantity  Discount    Profit  \\\n",
       "Product ID                                                               \n",
       "TEC-SHA-10004151     -0.461351  0.385788 -0.666667       0.0  2.012225   \n",
       "\n",
       "                  Shipping Cost  Order Priority  \n",
       "Product ID                                       \n",
       "TEC-SHA-10004151       0.379121             0.0  "
      ]
     },
     "execution_count": 34,
     "metadata": {},
     "output_type": "execute_result"
    }
   ],
   "source": [
    "df.sample()"
   ]
  }
 ],
 "metadata": {
  "kernelspec": {
   "display_name": "Proyecto9-Hackio",
   "language": "python",
   "name": "python3"
  },
  "language_info": {
   "codemirror_mode": {
    "name": "ipython",
    "version": 3
   },
   "file_extension": ".py",
   "mimetype": "text/x-python",
   "name": "python",
   "nbconvert_exporter": "python",
   "pygments_lexer": "ipython3",
   "version": "3.11.10"
  }
 },
 "nbformat": 4,
 "nbformat_minor": 2
}
